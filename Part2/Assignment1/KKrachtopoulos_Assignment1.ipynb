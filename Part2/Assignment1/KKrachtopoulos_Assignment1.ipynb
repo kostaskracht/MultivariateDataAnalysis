{
 "cells": [
  {
   "cell_type": "code",
   "execution_count": 160,
   "metadata": {
    "collapsed": true
   },
   "outputs": [],
   "source": [
    "# basic imports\n",
    "import numpy as np\n",
    "import pandas as pd\n",
    "from numpy.linalg import inv\n",
    "import matplotlib.pyplot as plt"
   ]
  },
  {
   "cell_type": "code",
   "execution_count": 161,
   "outputs": [],
   "source": [
    "# Load the data as a pandas dataframe\n",
    "df = pd.read_csv(\"periodic.csv\")\n",
    "#plt.plot(df[\"y\"])\n",
    "\n",
    "# Convert the dataframe to a numpy array (for easier manipulation)\n",
    "arr = df.to_numpy()"
   ],
   "metadata": {
    "collapsed": false,
    "pycharm": {
     "name": "#%%\n"
    }
   }
  },
  {
   "cell_type": "code",
   "execution_count": 162,
   "outputs": [
    {
     "name": "stdout",
     "output_type": "stream",
     "text": [
      "[[ 31.17980408 -21.39478959  -2.02377133]\n",
      " [-21.39478959  31.56409375   3.80653564]\n",
      " [ -2.02377133   3.80653564  27.82768465]] [[0.865153  ]\n",
      " [0.57819009]\n",
      " [2.19007668]]\n",
      "[[ 7.20336779e+00 -5.34743514e-01 -6.22388502e-02]\n",
      " [-5.34743514e-01  5.45438385e-02  6.34836272e-03]\n",
      " [-6.22388502e-02  6.34836272e-03  3.92230751e+00]] [[1.21949428]\n",
      " [0.17463734]\n",
      " [2.48057594]]\n"
     ]
    }
   ],
   "source": [
    "# Initialize the problem parameters\n",
    "params = 3 # number of parameters\n",
    "s0_sqr = 100\n",
    "m = np.zeros((arr.shape[0] + 1, params, 1)) # Create buffer for m matrices with size 51x3x1\n",
    "p = np.zeros((arr.shape[0] + 1, params, params)) # Create buffer for m matrices with size 51x1x1\n",
    "\n",
    "# Initialize the apriori matrices\n",
    "m[0, :, 0] = np.zeros(params) # Setting m0\n",
    "p[0] = s0_sqr*np.eye(params) # Setting p0\n",
    "\n",
    "# Iterate over timepoints:\n",
    "for idx,t in enumerate(arr[:, 0]):\n",
    "    # Calculate the h matrix\n",
    "    #import ipdb; ipdb.set_trace()\n",
    "    h = np.array([[1, t, np.sin(2*np.pi*t)]])\n",
    "    p[idx+1] = p[idx] - p[idx] @ h.T*inv(h @ p[idx] @ h.T + s0_sqr) @ h @ p[idx]\n",
    "    m[idx+1] = p[idx+1] @ (h.T / s0_sqr * arr[idx, 1] + inv(p[idx]) @ m[idx])\n",
    "\n",
    "print(p[5], m[5])\n",
    "print(p[-1], m[-1])\n",
    "\n"
   ],
   "metadata": {
    "collapsed": false,
    "pycharm": {
     "name": "#%%\n"
    }
   }
  },
  {
   "cell_type": "code",
   "execution_count": 175,
   "outputs": [
    {
     "name": "stdout",
     "output_type": "stream",
     "text": [
      "[1.21949428 0.17463734 2.48057594]\n",
      "[2.04644285 0.1318201  1.79301777]\n"
     ]
    },
    {
     "data": {
      "text/plain": "<Figure size 432x288 with 1 Axes>",
      "image/png": "[encoded data removed]"
     },
     "metadata": {
      "needs_background": "light"
     },
     "output_type": "display_data"
    }
   ],
   "source": [
    "np.random.seed(15)\n",
    "# Plot the data points, together with the fitted curve from all data\n",
    "# Get the thetas from the fitted distribution\n",
    "thetas = np.random.multivariate_normal(m[-1, :, 0], p[-1])\n",
    "#thetas = m[-1, :, 0]\n",
    "plt.scatter(arr[:, 0], arr[:, 1], label=\"Datapoints\")\n",
    "x = arr[:, 0]\n",
    "plt.plot(x, thetas[0] + thetas[1]*x + thetas[2]*np.sin(2*np.pi*x) + np.random.normal(0, 1),\n",
    "         label=\"Fitted curve\", color=\"green\")\n",
    "plt.xlabel(\"Time\")\n",
    "plt.ylabel(\"Measured signal\")\n",
    "plt.title(\"Fitted Model\")\n",
    "plt.legend()\n",
    "import sys\n",
    "plt.savefig(\"Fitted_model.jpg\", dpi=400)\n",
    "print(m[-1, :, 0])\n",
    "print(thetas)"
   ],
   "metadata": {
    "collapsed": false,
    "pycharm": {
     "name": "#%%\n"
    }
   }
  },
  {
   "cell_type": "code",
   "execution_count": 169,
   "outputs": [
    {
     "data": {
      "text/plain": "array([[ 7.20336779e+00, -5.34743514e-01, -6.22388502e-02],\n       [-5.34743514e-01,  5.45438385e-02,  6.34836272e-03],\n       [-6.22388502e-02,  6.34836272e-03,  3.92230751e+00]])"
     },
     "execution_count": 169,
     "metadata": {},
     "output_type": "execute_result"
    }
   ],
   "source": [
    "p[-1]"
   ],
   "metadata": {
    "collapsed": false,
    "pycharm": {
     "name": "#%%\n"
    }
   }
  },
  {
   "cell_type": "code",
   "execution_count": 77,
   "outputs": [
    {
     "data": {
      "text/plain": "0.6886237633090909"
     },
     "execution_count": 77,
     "metadata": {},
     "output_type": "execute_result"
    }
   ],
   "source": [
    "np.random.normal(0, 1)"
   ],
   "metadata": {
    "collapsed": false,
    "pycharm": {
     "name": "#%%\n"
    }
   }
  },
  {
   "cell_type": "code",
   "execution_count": 82,
   "outputs": [
    {
     "data": {
      "text/plain": "array([[ 5.88604966, -0.17393057,  5.47317463],\n       [ 7.20425584, -0.40995174,  1.23599289],\n       [ 2.38741351,  0.03935723,  0.24962281]])"
     },
     "execution_count": 82,
     "metadata": {},
     "output_type": "execute_result"
    }
   ],
   "source": [
    "thetas"
   ],
   "metadata": {
    "collapsed": false,
    "pycharm": {
     "name": "#%%\n"
    }
   }
  },
  {
   "cell_type": "code",
   "execution_count": 83,
   "outputs": [
    {
     "data": {
      "text/plain": "(3,)"
     },
     "execution_count": 83,
     "metadata": {},
     "output_type": "execute_result"
    }
   ],
   "source": [
    "m[-1, :, 0].shape"
   ],
   "metadata": {
    "collapsed": false,
    "pycharm": {
     "name": "#%%\n"
    }
   }
  },
  {
   "cell_type": "code",
   "execution_count": 84,
   "outputs": [
    {
     "data": {
      "text/plain": "(3, 3)"
     },
     "execution_count": 84,
     "metadata": {},
     "output_type": "execute_result"
    }
   ],
   "source": [
    "p[-1].shape"
   ],
   "metadata": {
    "collapsed": false,
    "pycharm": {
     "name": "#%%\n"
    }
   }
  },
  {
   "cell_type": "code",
   "execution_count": 70,
   "outputs": [],
   "source": [],
   "metadata": {
    "collapsed": false,
    "pycharm": {
     "name": "#%%\n"
    }
   }
  },
  {
   "cell_type": "code",
   "execution_count": null,
   "outputs": [],
   "source": [],
   "metadata": {
    "collapsed": false,
    "pycharm": {
     "name": "#%%\n"
    }
   }
  }
 ],
 "metadata": {
  "kernelspec": {
   "name": "pycharm-95701864",
   "language": "python",
   "display_name": "PyCharm (MachineLearning1_exercises)"
  },
  "language_info": {
   "codemirror_mode": {
    "name": "ipython",
    "version": 2
   },
   "file_extension": ".py",
   "mimetype": "text/x-python",
   "name": "python",
   "nbconvert_exporter": "python",
   "pygments_lexer": "ipython2",
   "version": "2.7.6"
  }
 },
 "nbformat": 4,
 "nbformat_minor": 0
}