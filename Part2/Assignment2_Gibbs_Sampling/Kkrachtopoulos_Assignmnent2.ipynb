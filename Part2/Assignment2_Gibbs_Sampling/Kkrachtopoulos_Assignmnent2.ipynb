{
 "cells": [
  {
   "cell_type": "code",
   "execution_count": 67,
   "metadata": {
    "collapsed": true
   },
   "outputs": [],
   "source": [
    "### Exercise 3\n",
    "# basic imports\n",
    "import math\n",
    "\n",
    "import numpy as np\n",
    "import pandas as pd\n",
    "from numpy.linalg import inv\n",
    "import matplotlib.pyplot as plt"
   ]
  },
  {
   "cell_type": "code",
   "execution_count": 70,
   "outputs": [],
   "source": [
    "# Define functions to calculate foundamental values\n",
    "def calc_gradient(x, y, thetas):\n",
    "    # Calculate the gradient of the log likelihood\n",
    "\treturn -x.T @ np.exp(x @ thetas.T) + x.T @ y\n",
    "\n",
    "def calc_hessian_inverse(x, thetas):\n",
    "    # Calculate the hessian matrix of the log likelihood\n",
    "    hess = -x.T @ np.diag(np.exp(x @ thetas.T)) @ x\n",
    "    return np.linalg.inv(hess)"
   ],
   "metadata": {
    "collapsed": false,
    "pycharm": {
     "name": "#%%\n"
    }
   }
  },
  {
   "cell_type": "code",
   "execution_count": 71,
   "outputs": [],
   "source": [
    "# Load the data as a pandas dataframe\n",
    "df = pd.read_csv(\"dataexercise2.csv\")\n",
    "\n",
    "# Convert the dataframe to a numpy array (for easier manipulation)\n",
    "arr = df.to_numpy()\n",
    "\n",
    "# Split the dataset\n",
    "# first 4 columns are features (x matrix)\n",
    "# last column is label (y vector)\n",
    "x = arr[:, :-1]\n",
    "y = arr[:, -1]"
   ],
   "metadata": {
    "collapsed": false,
    "pycharm": {
     "name": "#%%\n"
    }
   }
  },
  {
   "cell_type": "code",
   "execution_count": 98,
   "outputs": [],
   "source": [
    "# Sample thetas from prior distribution\n",
    "featNum = x.shape[1]\n",
    "std0 = 4\n",
    "thetas = np.random.multivariate_normal(np.zeros(featNum), std0**2*np.eye(featNum))"
   ],
   "metadata": {
    "collapsed": false,
    "pycharm": {
     "name": "#%%\n"
    }
   }
  },
  {
   "cell_type": "code",
   "execution_count": 99,
   "outputs": [
    {
     "name": "stdout",
     "output_type": "stream",
     "text": [
      "Converged in 36 iterations\n",
      "[ 1.12777336  0.42858431  0.01512131 -0.05416601]\n",
      "[[ 0.03140956 -0.00820031  0.00116572 -0.00139328]\n",
      " [-0.00820031  0.00305825 -0.00031134  0.00066138]\n",
      " [ 0.00116572 -0.00031134  0.0148073  -0.0014676 ]\n",
      " [-0.00139328  0.00066138 -0.0014676   0.01173136]]\n"
     ]
    }
   ],
   "source": [
    "# Newton algorithm implementation\n",
    "iters = 1000\n",
    "e = 1e-6\n",
    "\n",
    "for i in range(iters):\n",
    "    grad = calc_gradient(x, y, thetas)\n",
    "    hess_inv = calc_hessian_inverse(x, thetas)\n",
    "    update = grad @ hess_inv\n",
    "    if np.any(np.abs(update)) > e:\n",
    "        thetas = thetas - update\n",
    "    else:\n",
    "        print(\"Converged after {} iterations\".format(i + 1))\n",
    "        break\n",
    "\n",
    "# Calculate the gaussian distribution of thetas with Laplace approximation\n",
    "mean = thetas\n",
    "cov = -calc_hessian_inverse(x, thetas)\n",
    "print(mean)\n",
    "print(cov)"
   ],
   "metadata": {
    "collapsed": false,
    "pycharm": {
     "name": "#%%\n"
    }
   }
  },
  {
   "cell_type": "code",
   "execution_count": 6,
   "outputs": [],
   "source": [
    "### Exercise 4\n",
    "# basic imports\n",
    "import numpy as np\n",
    "import pandas as pd\n",
    "import math\n",
    "import matplotlib.pyplot as plt\n",
    "from scipy.stats import multivariate_normal\n",
    "from colour import Color"
   ],
   "metadata": {
    "collapsed": false,
    "pycharm": {
     "name": "#%%\n"
    }
   }
  },
  {
   "cell_type": "code",
   "execution_count": 7,
   "outputs": [],
   "source": [
    "# Define functions to modularize the script\n",
    "def calcPriorTheta(thetas, std0=4, featNum=4):\n",
    "    # Calculate the prior of thetas, based on normal distribution\n",
    "    # thetas: 4x1 array of parameters\n",
    "    # std0: standard deviation set by the problem statement\n",
    "    # featNum: Number of features loaded\n",
    "    dist = multivariate_normal(mean=np.zeros(featNum), cov=std0**2*np.eye(featNum))\n",
    "    return dist.pdf(thetas.T)\n",
    "\n",
    "def calcLogPostTheta(thetas, x, y):\n",
    "    # Calculate the posterior of theta given data, without the\n",
    "    # regularization parameter\n",
    "    # thetas: 4x1 array of parameters\n",
    "    # x: 2d given dataset\n",
    "    # y: 1d labels of given dataset\n",
    "    log_likelihood = 0\n",
    "    for i in range(y.shape[0]):\n",
    "        log_likelihood += -np.exp(x[i].T @ thetas)\\\n",
    "                          + y[i]*x[i].T @ thetas \\\n",
    "                          - np.log(math.factorial(y[i]))\n",
    "    log_prior = calcPriorTheta(thetas)\n",
    "    return (log_likelihood + log_prior)[0]\n",
    "\n",
    "def acceptUpdate(logPostThetasCur, logPostThetasNew):\n",
    "    # Calculate whether currents thetas will be updated with the new thetas\n",
    "    # based on the acceptance criterion.\n",
    "    # logPostThetasCur\n",
    "    # logPostThetasNew\n",
    "    logAcceptance = logPostThetasNew - logPostThetasCur\n",
    "    if logAcceptance > 0: # then a = 1, sure update\n",
    "        return True\n",
    "    else:\n",
    "        # Sample from uniform distribution\n",
    "        logU = np.log(np.random.uniform(0, 1))\n",
    "        return logAcceptance > logU\n",
    "\n",
    "def execMetropolisHastings(thetasInit, iters, x, y):\n",
    "    # logPosterior: the log posterior probability of thetas\n",
    "    # thetasInit: initialization of theta parameters\n",
    "    # iters: number of iterations\n",
    "    # x: 2d given dataset\n",
    "    # y: 1d labels of given dataset\n",
    "\n",
    "    # Create lists to store the accepted, rejected and current thetas\n",
    "    acc_thetas = []\n",
    "    rej_thetas = []\n",
    "    cur_thetas = np.zeros((iters, featNum))\n",
    "\n",
    "    # Initialize theta parameters\n",
    "    thetasCur = np.reshape(thetasInit, (-1, 1))\n",
    "\n",
    "    # Initialized proposed sigma\n",
    "    sigma_prop = 0.08\n",
    "\n",
    "    # Begin the loop\n",
    "    for iter in range(iters):\n",
    "        # Compute the new theta parameters with Random Walk\n",
    "        thetasNew = thetasCur + np.random.normal(0, sigma_prop, (featNum, 1))\n",
    "        thetasCurPost = calcLogPostTheta(thetasCur, x, y)\n",
    "        thetasNewPost = calcLogPostTheta(thetasNew, x, y)\n",
    "        if acceptUpdate(thetasCurPost, thetasNewPost):\n",
    "            # Update thetas\n",
    "            thetasCur = thetasNew\n",
    "            acc_thetas.append(thetasNew)\n",
    "        else:\n",
    "            rej_thetas.append(thetasNew)\n",
    "        # Collect current theta parameters\n",
    "        cur_thetas[iter] = thetasCur[:, 0]\n",
    "\n",
    "    return cur_thetas, acc_thetas, rej_thetas"
   ],
   "metadata": {
    "collapsed": false,
    "pycharm": {
     "name": "#%%\n"
    }
   }
  },
  {
   "cell_type": "code",
   "execution_count": 8,
   "outputs": [
    {
     "data": {
      "text/plain": "<Figure size 432x288 with 1 Axes>",
      "image/png": "[encoded data removed]"
     },
     "metadata": {
      "needs_background": "light"
     },
     "output_type": "display_data"
    }
   ],
   "source": [
    "\n",
    "# Main code execution\n",
    "# Load the data as a pandas dataframe\n",
    "df = pd.read_csv(\"dataexercise2.csv\")\n",
    "\n",
    "# Convert the dataframe to a numpy array (for easier manipulation)\n",
    "arr = df.to_numpy()\n",
    "\n",
    "# Split the dataset\n",
    "# first 4 columns are features (x matrix)\n",
    "# last column is label (y vector)\n",
    "x = arr[:, :-1]\n",
    "y = arr[:, -1]\n",
    "\n",
    "# Set initial parameters\n",
    "featNum = x.shape[1]\n",
    "std0 = 4\n",
    "thetasInit = np.random.multivariate_normal(np.zeros(featNum), std0**2*np.eye(featNum))\n",
    "iters = 5000\n",
    "\n",
    "cur_thetas, acc_thetas, rej_thetas = \\\n",
    "    execMetropolisHastings(thetasInit, iters, x, y)\n",
    "\n",
    "acceptance_rate = len(acc_thetas)/iters\n",
    "print(\"Acceptance rate is {}\".format(acceptance_rate))"
   ],
   "metadata": {
    "collapsed": false,
    "pycharm": {
     "name": "#%%\n"
    }
   }
  },
  {
   "cell_type": "code",
   "execution_count": 38,
   "outputs": [
    {
     "data": {
      "text/plain": "<Figure size 432x288 with 1 Axes>",
      "image/png": "[encoded data removed]"
     },
     "metadata": {
      "needs_background": "light"
     },
     "output_type": "display_data"
    }
   ],
   "source": [
    "# plot theta1 vs theta2\n",
    "initCol = Color(\"green\")\n",
    "finCol = Color(\"blue\")\n",
    "colorSpectrum = list(initCol.range_to(finCol, len(cur_thetas)))\n",
    "fig, ax = plt.subplots()\n",
    "for i in range(len(colorSpectrum)):\n",
    "    if (((i+1) % 200 == 0) and (i+1 < 1000)) or (i+1 == iters):\n",
    "\t    ax.scatter(cur_thetas[i, 0], cur_thetas[i, 1], alpha=0.8, c=str(colorSpectrum[i]),\n",
    "                   label=i+1)\n",
    "    else:\n",
    "        ax.scatter(cur_thetas[i, 0], cur_thetas[i, 1], alpha=0.8, c=str(colorSpectrum[i]))\n",
    "\n",
    "plt.xlabel(\"theta 1\")\n",
    "plt.ylabel(\"theta 2\")\n",
    "plt.title(\"theta 1 vs theta 2 over iterations\")\n",
    "plt.legend()\n",
    "plt.show()\n",
    "fig.savefig('plot4.png')"
   ],
   "metadata": {
    "collapsed": false,
    "pycharm": {
     "name": "#%%\n"
    }
   }
  },
  {
   "cell_type": "code",
   "execution_count": 39,
   "outputs": [
    {
     "name": "stdout",
     "output_type": "stream",
     "text": [
      "Mean posterior theta is: [ 1.14712474  0.41964996  0.01967746 -0.03759524]\n"
     ]
    }
   ],
   "source": [
    "#fig.savefig('plot3.png')\n",
    "lim = 280\n",
    "meanPost = np.mean(cur_thetas[280:, :], axis=0)\n",
    "print(\"Mean posterior theta is: {}\".format(meanPost))"
   ],
   "metadata": {
    "collapsed": false,
    "pycharm": {
     "name": "#%%\n"
    }
   }
  },
  {
   "cell_type": "code",
   "execution_count": 126,
   "outputs": [
    {
     "data": {
      "text/plain": "4703"
     },
     "execution_count": 126,
     "metadata": {},
     "output_type": "execute_result"
    }
   ],
   "source": [
    "# NEXT EXERCISE\n"
   ],
   "metadata": {
    "collapsed": false,
    "pycharm": {
     "name": "#%%\n"
    }
   }
  },
  {
   "cell_type": "code",
   "execution_count": 4,
   "outputs": [],
   "source": [
    "### Exercise 5\n",
    "# basic imports\n",
    "import numpy as np\n",
    "import pandas as pd\n",
    "import math\n",
    "import matplotlib.pyplot as plt\n",
    "from scipy.stats import multivariate_normal\n",
    "from scipy.stats import invgamma"
   ],
   "metadata": {
    "collapsed": false,
    "pycharm": {
     "name": "#%%\n"
    }
   }
  },
  {
   "cell_type": "code",
   "execution_count": 5,
   "outputs": [],
   "source": [
    "# Define functions to modularize the script\n",
    "def calcPriorTheta(thetas, std0=4, featNum=4):\n",
    "\t# Calculate the prior of thetas, based on normal distribution\n",
    "\t# thetas: 4x1 array of parameters\n",
    "\t# std0: standard deviation set by the problem statement\n",
    "\t# featNum: Number of features loaded\n",
    "\tdist = multivariate_normal(mean=np.zeros(featNum), cov=std0**2*np.eye(featNum))\n",
    "\treturn dist.pdf(thetas.T)\n",
    "\n",
    "def calcLogPostTheta(thetas, x, y, sigma=4):\n",
    "\t# Calculate the posterior of theta given data, without the\n",
    "\t# regularization parameter\n",
    "\t# thetas: 4x1 array of parameters\n",
    "\t# x: 2d given dataset\n",
    "\t# y: 1d labels of given dataset\n",
    "\tlog_likelihood = 0\n",
    "\tfor i in range(y.shape[0]):\n",
    "\t\tlog_likelihood += -np.exp(x[i].T @ thetas)\\\n",
    "                          + y[i]*x[i].T @ thetas\\\n",
    "                          - np.log(math.factorial(y[i]))\n",
    "\tlog_prior = calcPriorTheta(thetas, std0=sigma)\n",
    "\treturn (log_likelihood + log_prior)[0]\n",
    "\n",
    "def acceptUpdate(logPostThetasCur, logPostThetasNew):\n",
    "\t# Calculate whether currents thetas will be updated with the new thetas\n",
    "\t# based on the acceptance criterion.\n",
    "\t# logPostThetasCur\n",
    "\t# logPostThetasNew\n",
    "\tlogAcceptance = logPostThetasNew - logPostThetasCur\n",
    "\tif logAcceptance > 0: # then a = 1, sure update\n",
    "\t\treturn True\n",
    "\telse:\n",
    "\t\t# Sample from uniform distribution\n",
    "\t\tlogU = np.log(np.random.uniform(0, 1))\n",
    "\t\treturn logAcceptance > logU\n",
    "\n",
    "def execGibbsSamples(thetasInit, iters, x, y):\n",
    "\t# logPosterior: the log posterior probability of thetas\n",
    "\t# thetasInit: initialization of theta parameters\n",
    "\t# iters: number of iterations\n",
    "\t# x: 2d given dataset\n",
    "\t# y: 1d labels of given dataset\n",
    "\n",
    "\t# Create lists to store the accepted, rejected and current thetas\n",
    "    acc_thetas = []\n",
    "    rej_thetas = []\n",
    "    cur_thetas = np.zeros((iters, featNum))\n",
    "    sigmas = []\n",
    "\n",
    "\t# Initialize theta parameters\n",
    "    thetasCur = np.reshape(thetasInit, (-1, 1))\n",
    "\n",
    "\t# Initialized proposed sigma\n",
    "    sigma_prop = 0.08\n",
    "    alpha = 0.2\n",
    "    beta = 0.2\n",
    "\n",
    "\t# Begin the loop\n",
    "    for iter in range(iters):\n",
    "        # First update the sigma, based on the inversed gamma distribution\n",
    "        sigma = invgamma.rvs(a=alpha + featNum/2, scale=beta + 0.5*np.linalg.norm(thetasCur)**2)\n",
    "        sigmas.append(sigma)\n",
    "        # Compute the new theta parameters with Random Walk\n",
    "        thetasNew = thetasCur + np.random.normal(0, sigma_prop, (featNum, 1))\n",
    "        thetasCurPost = calcLogPostTheta(thetasCur, x, y, sigma=sigma)\n",
    "        thetasNewPost = calcLogPostTheta(thetasNew, x, y, sigma=sigma)\n",
    "        if acceptUpdate(thetasCurPost, thetasNewPost):\n",
    "\t\t\t# Update thetas\n",
    "            thetasCur = thetasNew\n",
    "            acc_thetas.append(thetasNew)\n",
    "        else:\n",
    "            rej_thetas.append(thetasNew)\n",
    "\t\t# Collect current theta parameters\n",
    "        cur_thetas[iter] = thetasCur[:, 0]\n",
    "\n",
    "    return cur_thetas, acc_thetas, rej_thetas, sigmas"
   ],
   "metadata": {
    "collapsed": false,
    "pycharm": {
     "name": "#%%\n"
    }
   }
  },
  {
   "cell_type": "code",
   "execution_count": 6,
   "outputs": [
    {
     "name": "stdout",
     "output_type": "stream",
     "text": [
      "Acceptance rate is 0.3198\n"
     ]
    }
   ],
   "source": [
    "# Main code execution\n",
    "# Load the data as a pandas dataframe\n",
    "df = pd.read_csv(\"dataexercise2.csv\")\n",
    "\n",
    "# Convert the dataframe to a numpy array (for easier manipulation)\n",
    "arr = df.to_numpy()\n",
    "\n",
    "# Split the dataset\n",
    "# first 4 columns are features (x matrix)\n",
    "# last column is label (y vector)\n",
    "x = arr[:, :-1]\n",
    "y = arr[:, -1]\n",
    "\n",
    "# Set initial parameters\n",
    "featNum = x.shape[1]\n",
    "std0 = 4\n",
    "thetasInit = np.random.multivariate_normal(np.zeros(featNum), std0**2*np.eye(featNum))\n",
    "iters = 5000\n",
    "\n",
    "cur_thetas, acc_thetas, rej_thetas, sigmas =\\\n",
    "    execGibbsSamples(thetasInit, iters, x, y)\n",
    "\n",
    "acceptance_rate = len(acc_thetas)/iters\n",
    "print(\"Acceptance rate is {}\".format(acceptance_rate))"
   ],
   "metadata": {
    "collapsed": false,
    "pycharm": {
     "name": "#%%\n"
    }
   }
  },
  {
   "cell_type": "code",
   "execution_count": 9,
   "outputs": [
    {
     "data": {
      "text/plain": "<Figure size 432x288 with 1 Axes>",
      "image/png": "[encoded data removed]"
     },
     "metadata": {
      "needs_background": "light"
     },
     "output_type": "display_data"
    }
   ],
   "source": [
    "# plot traceplot\n",
    "plt.plot(np.arange(len(sigmas)), sigmas, label=\"sigma^2\")\n",
    "plt.xlabel(\"Iterations\")\n",
    "plt.ylabel(\"sigma^2\")\n",
    "plt.title(\"Traceplot of posterior samples of sigma^2\")\n",
    "plt.legend()\n",
    "plt.grid()\n",
    "plt.savefig('plot5_1.png')\n",
    "plt.show()\n",
    "\n"
   ],
   "metadata": {
    "collapsed": false,
    "pycharm": {
     "name": "#%%\n"
    }
   }
  }
 ],
 "metadata": {
  "kernelspec": {
   "name": "pycharm-95701864",
   "language": "python",
   "display_name": "PyCharm (MachineLearning1_exercises)"
  },
  "language_info": {
   "codemirror_mode": {
    "name": "ipython",
    "version": 2
   },
   "file_extension": ".py",
   "mimetype": "text/x-python",
   "name": "python",
   "nbconvert_exporter": "python",
   "pygments_lexer": "ipython2",
   "version": "2.7.6"
  }
 },
 "nbformat": 4,
 "nbformat_minor": 0
}